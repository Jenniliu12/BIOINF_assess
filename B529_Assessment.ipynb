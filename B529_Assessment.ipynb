{
 "cells": [
  {
   "cell_type": "markdown",
   "metadata": {},
   "source": [
    "# Bioinformatics Python programming placement assessment"
   ]
  },
  {
   "cell_type": "markdown",
   "metadata": {},
   "source": [
    "---"
   ]
  },
  {
   "cell_type": "markdown",
   "metadata": {},
   "source": [
    "## Purpose"
   ]
  },
  {
   "cell_type": "markdown",
   "metadata": {},
   "source": [
    "The purpose of this assessment is to determine if you already possess the Python programming skill set pre-requirements of **BIOINF 529: Bioinformatic Concepts & Algorithms** and to waive your requirement for **BIOINF 575: Programming Laboratory in Bioinformatics**."
   ]
  },
  {
   "cell_type": "markdown",
   "metadata": {},
   "source": [
    "---"
   ]
  },
  {
   "cell_type": "markdown",
   "metadata": {},
   "source": [
    "## Instructions"
   ]
  },
  {
   "cell_type": "markdown",
   "metadata": {},
   "source": [
    "* *Carefully* read **all** instructions for *each* section before attempting to write any code\n",
    "* <u>Do not alter</u> **any** of the provided source code other than what is requested"
   ]
  },
  {
   "cell_type": "markdown",
   "metadata": {},
   "source": [
    "---"
   ]
  },
  {
   "cell_type": "markdown",
   "metadata": {},
   "source": [
    "## Information"
   ]
  },
  {
   "cell_type": "markdown",
   "metadata": {},
   "source": [
    "### General:"
   ]
  },
  {
   "cell_type": "markdown",
   "metadata": {},
   "source": [
    "---\n",
    "### <font color=\"red\">Warning</font>\n",
    "As we know that there is a strong urge to perform at the edge of your ability in graduate school, we **strongly** urge you to <u>refrain from getting assistance with this assessment</u>, and <u>only submitting work that you know you are currently capable of</u>. "
   ]
  },
  {
   "cell_type": "markdown",
   "metadata": {},
   "source": [
    "This assessment is not used to evaluate you in any other way other than your Python programming abilities. "
   ]
  },
  {
   "cell_type": "markdown",
   "metadata": {},
   "source": [
    "That is, if you turn in work that is *not your own* or you *do not fully understand* and we, consequently, waive the *BIOINF 575: Programming Laboratory in Bioinformatics* requirement, <font color=\"red\">you will likely suffer</font> from a steeper learning curve during *BIOINF 529: Bioinformatic Concepts & Algorithms*."
   ]
  },
  {
   "cell_type": "markdown",
   "metadata": {},
   "source": [
    "---"
   ]
  },
  {
   "cell_type": "markdown",
   "metadata": {},
   "source": [
    "This is only an *assessment* and will not be used for any other form of evaluation other than that stated in the [Purpose](#Purpose) section of this file."
   ]
  },
  {
   "cell_type": "markdown",
   "metadata": {},
   "source": [
    "After your assessment is evaluated, the instructors of *BIOINF 529: Bioinformatic Concepts & Algorithms* will determine if you meet the pre-requirements for the course."
   ]
  },
  {
   "cell_type": "markdown",
   "metadata": {},
   "source": [
    "**Note**: We fully acknowledge that you may (or may not) have prior programming experience. This experience may be in other programming languages (e.g. MATLAB, R, etc) or in the language of instruction: **Python**. However, *BIOINF 529: Bioinformatic Concepts & Algorithms* relies on fundamental *Python* programming concepts not readily used in other languages or regularly covered in self-taught curriculum. \n",
    "\n",
    "Therefore, please know that we are not assessing your ability to program, but rather your ability to program using intermediate/advanced Python concepts."
   ]
  },
  {
   "cell_type": "markdown",
   "metadata": {},
   "source": [
    "# Important Readme:"
   ]
  },
  {
   "cell_type": "markdown",
   "metadata": {},
   "source": [
    "1. You do **not** have to take this assessment\n",
    "    * If you do take this assessment; you have the *opportunity* to waive the *BIOINF 575: Programming Laboratory in Bioinformatics* requirement\n",
    "    * If you do not take this assessment; you will just have to take *BIOINF 575: Programming Laboratory in Bioinformatics* \n",
    "* You do **not** have to pass this assessment should you choose to take it\n",
    "    * If you pass; the *BIOINF 575: Programming Laboratory in Bioinformatics* requirement will be waived\n",
    "    * If you do not pass; you will just have to take *BIOINF 575: Programming Laboratory in Bioinformatics* \n",
    "* This assessment will **not** be stored after the assessment is complete\n",
    "* If you find yourself not readily understanding what is asked of you in this assessment, do **not** worry. \n",
    "    * You **will** be taught these concepts in *BIOINF 575: Programming Laboratory in Bioinformatics* \n",
    "    * You **will** find yourself well-prepared for *BIOINF 529: Bioinformatic Concepts & Algorithms*.\n",
    "* This assessment will **not** be used in any other way to evaluate you as a student or your place in this program"
   ]
  },
  {
   "cell_type": "markdown",
   "metadata": {},
   "source": [
    "### Points of Assessment"
   ]
  },
  {
   "cell_type": "markdown",
   "metadata": {},
   "source": [
    "You will be assessed on your ability to understand and implement the following *Points of Assessment*:\n",
    "\n",
    "|#|Concept|\n",
    "|--|:--|\n",
    "|1| [Jupyter notebooks](#Part-0)|\n",
    "|2| [git](#Part-0)|\n",
    "|3| [I/O operations](#Part-1%3A-I%2FO-and-string-operations)|\n",
    "|4| [String operations](#Part-1%3A-I%2FO-and-string-operations)|\n",
    "|5| [Numpy arrays and simple Python data structures](#Part-2%3A-Numpy%2C-data-structures%2C-%3Ccode%3Erandom%3C%2Fcode%3E%2C-slicing%2C-indexing%2C-and-subsetting)|\n",
    "|6| [Random selection techniques](#Part-2%3A-Numpy%2C-data-structures%2C-%3Ccode%3Erandom%3C%2Fcode%3E%2C-slicing%2C-indexing%2C-and-subsetting)| \n",
    "|7| [Indexing, slicing, and subsetting data](#Part-2%3A-Numpy%2C-data-structures%2C-%3Ccode%3Erandom%3C%2Fcode%3E%2C-slicing%2C-indexing%2C-and-subsetting)|\n",
    "|8| [Object-Oriented Programming](#Part-3%3A-Object-Oriented-Progamming)|\n",
    "|9| Coding by Contract|\n",
    "|10| Iteration methods|\n",
    "|11| Python control structures|"
   ]
  },
  {
   "cell_type": "markdown",
   "metadata": {},
   "source": [
    "---"
   ]
  },
  {
   "cell_type": "markdown",
   "metadata": {},
   "source": [
    "## Administration"
   ]
  },
  {
   "cell_type": "markdown",
   "metadata": {},
   "source": [
    "### Timeline"
   ]
  },
  {
   "cell_type": "markdown",
   "metadata": {},
   "source": [
    "You will have one (1) week to complete the assessment"
   ]
  },
  {
   "cell_type": "markdown",
   "metadata": {},
   "source": [
    "### Submission"
   ]
  },
  {
   "cell_type": "markdown",
   "metadata": {},
   "source": [
    "Please attach the file in an email to **both** Ryan E Mills (remills@umich.edu) and Alan Boyle (apboyle@umich.edu)"
   ]
  },
  {
   "cell_type": "markdown",
   "metadata": {},
   "source": [
    "---"
   ]
  },
  {
   "cell_type": "markdown",
   "metadata": {},
   "source": [
    "# Part 0"
   ]
  },
  {
   "cell_type": "markdown",
   "metadata": {},
   "source": [
    "You may not know it, but you are already on your way to fulfilling one of the [Points of Assessment: *Jupyter Notebooks*](#Points-of-Assessment). Jupyter Notebooks (\\*.ipynb files) are the primary medium of instruction in *BIOINF 529: Bioinformatic Concepts & Algorithms*. Since you were able to view this file, it means you have a basic understanding of using Jupyter Notebooks."
   ]
  },
  {
   "cell_type": "markdown",
   "metadata": {},
   "source": [
    "## Instructions"
   ]
  },
  {
   "cell_type": "markdown",
   "metadata": {},
   "source": [
    "* Use `git` to acquire the data from this [repository](https://github.com/dcmb-courses/bioinf529-assessment-data)\n",
    "* ***move this notebook*** file into the newly acquired repository"
   ]
  },
  {
   "cell_type": "markdown",
   "metadata": {},
   "source": [
    "You will be using this data for [Part 1](#Part-1%3A-I%2FO-and-string-operations) of this assessment"
   ]
  },
  {
   "cell_type": "markdown",
   "metadata": {},
   "source": [
    "---"
   ]
  },
  {
   "cell_type": "markdown",
   "metadata": {},
   "source": [
    "# Part 1: I/O and string operations"
   ]
  },
  {
   "cell_type": "markdown",
   "metadata": {},
   "source": [
    "## Instructions"
   ]
  },
  {
   "cell_type": "markdown",
   "metadata": {},
   "source": [
    "# A. Write the following function\n",
    "0. <u>No `import` statements are allowed in this section</u>\n",
    "1. Write a function called <u>`placement_io`</u> with the following positional arguments:\n",
    "    1. <u>`file`</u>: a string path and filename to data that will be ingested (e.g. '/c/user/me/some_file.txt')\n",
    "    * <u>`delim`</u>: what is the delimiter of the file (e.g. tab, comma, etc)\n",
    "2. The function must open the declared `file` and process it *row-by-row*:\n",
    "    1. Each row must be delimited by `delim` and converted into a `list`\n",
    "    * Check each row if there is a variant:\n",
    "        1. If there is no variant; add a period ('.') to the end of the row\n",
    "        * If there is a variant; create a new string from the reference sequence such that the variant is present in the correct position and add it to the end of the row\n",
    "    * Add the newly modified row into another `list` that contains all the modified rows\n",
    "* The function must <u>`return`</u> the modified rows `list`"
   ]
  },
  {
   "cell_type": "code",
   "execution_count": 29,
   "metadata": {},
   "outputs": [],
   "source": [
    "# Use this cell to write the function described above\n",
    "\n",
    "def placement_io(file, delim):\n",
    "    '''\n",
    "    Function written in Python 3.9 on Windows 10\n",
    "    \n",
    "    INPUT:\n",
    "    file: string path and filename to data that will be ingested (e.g. '/c/user/me/some_file.txt')\n",
    "          The file has to be in the following format: [start|end|DNA sequence|indicator of variant + idx + single letter base] \n",
    "          with the same type of delimiter separating them. The indicator of variant has to be a string of following format: \"No_variant\" or \"Variant_#_base\".\n",
    "    delim: what is the delimiter of the file (e.g. tab, comma, etc).\n",
    "    \n",
    "    WHAT IS IT DOING:\n",
    "    This function reads the input file and processes the file row by row.\n",
    "    It checks the DNA sequence on possible variants: If there is a variant, append the correct sequence. If not, append a period.\n",
    "    \n",
    "    OUTPUT: \n",
    "    Returns list with modified rows (lists).\n",
    "    \n",
    "    '''\n",
    "\n",
    "# Read filepath and file in.\n",
    "\n",
    "    f = open(file, \"r\", encoding=\"utf8\")\n",
    "\n",
    "\n",
    "    length = len(f.readlines())\n",
    "    f.seek(0)\n",
    "    output_list = []\n",
    "\n",
    "    # Go through the input file row by row.\n",
    "    for i in range(length):\n",
    "        current_row = f.readline()     \n",
    "        current_row_list = current_row.split(delim)\n",
    "\n",
    "        if \"No_variant\" in current_row:\n",
    "            current_row_list.append(\".\")\n",
    "            output_list.append(current_row_list)\n",
    "            \n",
    "        elif \"Variant\" in current_row: \n",
    "            # Find the start and end number of given DNA sequence.\n",
    "            start = int(current_row_list[0])\n",
    "            end = int(current_row_list[1])\n",
    "            # Find digits in string and the idx of the variant base that is subject to replacement.\n",
    "            variant_idx = \"\"\n",
    "            for char in current_row_list[3]:\n",
    "                if char.isdigit():\n",
    "                    variant_idx = variant_idx + char\n",
    "            variant_idx = int(variant_idx)-start\n",
    "\n",
    "            # Find the variant base that is to be switched and create modified DNA sequence accordingly.\n",
    "            variant_base = current_row_list[3][-2] \n",
    "            mod_DNA = current_row_list[2][:variant_idx-1] + variant_base + current_row_list[2][variant_idx:]     \n",
    "            current_row_list.append(mod_DNA)\n",
    "            output_list.append(current_row_list)        \n",
    "\n",
    "        else:\n",
    "            print(\"Ambiguos information about variants. Please check input data and make sure that data is marked with either 'No_variant' or 'Variant'. Capitalization and spelling are important.\")\n",
    "\n",
    "    return output_list"
   ]
  },
  {
   "cell_type": "markdown",
   "metadata": {},
   "source": [
    "### B. Use the function on the data file provided in the git repo"
   ]
  },
  {
   "cell_type": "code",
   "execution_count": 30,
   "metadata": {},
   "outputs": [
    {
     "name": "stdout",
     "output_type": "stream",
     "text": [
      "['4863', '4883', 'GATATAGCACACAAGTAGAC', 'No_variant\\n', '.']\n",
      "['2310', '2330', 'AAAATTAGTAGATTTCAGAG', 'Variant_2327_T\\n', 'AAAATTAGTAGATTTCTGAG']\n",
      "['5313', '5333', 'CCATTTTCAGAATTGGGTGT', 'No_variant\\n', '.']\n",
      "['6302', '6322', 'AACTTGATATAATACCAATA', 'Variant_6303_C\\n', 'CACTTGATATAATACCAATA']\n",
      "['7673', '7693', 'TTAACAATTACACAAGCTTA', 'No_variant\\n', '.']\n",
      "['2378', '2398', 'CACATCCCGCAGGGTTAAAA', 'Variant_2390_C\\n', 'CACATCCCGCACGGTTAAAA']\n",
      "['7355', '7375', 'CTATGGGCGCAGCCTCAATG', 'No_variant\\n', '.']\n",
      "['2022', '2042', 'ATTAGTAGGACCTACACCTG', 'Variant_2025_G\\n', 'ATGAGTAGGACCTACACCTG']\n",
      "['8537', '8557', 'GTGGGTTTTCCAGTCACACC', 'Variant_8545_A\\n', 'GTGGGTTATCCAGTCACACC']\n",
      "['436', '456', 'AGTATGGGCAAGCAGGGAGC', 'Variant_454_T\\n', 'AGTATGGGCAAGCAGGGTGC']\n"
     ]
    }
   ],
   "source": [
    "# Use this cell to write the code that uses the above function on the provided file\n",
    "\n",
    "mod_list = placement_io(r'C:\\Users\\Jenni\\OneDrive\\Desktop\\directory\\bioinf529-assessment-data\\sample_data.tsv', \"\\t\")\n",
    "for row in mod_list:\n",
    "    print(row)"
   ]
  },
  {
   "cell_type": "markdown",
   "metadata": {},
   "source": [
    "---"
   ]
  },
  {
   "cell_type": "markdown",
   "metadata": {},
   "source": [
    "# Part 2: Numpy, data structures, `random`, slicing, indexing, and subsetting"
   ]
  },
  {
   "cell_type": "markdown",
   "metadata": {},
   "source": [
    "## Instructions"
   ]
  },
  {
   "cell_type": "markdown",
   "metadata": {},
   "source": [
    "### A. Setup your workspace\n",
    "0. The *only* `import` statements allowed in this section are: `numpy`, `random`, and `itertools`\n",
    "* Load in the following libraries:\n",
    "    1. Numpy (aliased as `np`)\n",
    "    * `random` from the standard library\n",
    "    * any *specific* tools needed from the `itertools` library -> Do **not** import `itertools` directly, just the sub-functions needed"
   ]
  },
  {
   "cell_type": "code",
   "execution_count": null,
   "metadata": {},
   "outputs": [],
   "source": [
    "# Use this cell to complete the directions detailed under 'A. Setup your workspace'\n",
    "\n",
    "import numpy as np\n",
    "import random \n",
    "from itertools import product"
   ]
  },
  {
   "cell_type": "markdown",
   "metadata": {},
   "source": [
    "### B. Write the following functions"
   ]
  },
  {
   "cell_type": "markdown",
   "metadata": {},
   "source": [
    "#### a. Numpy array"
   ]
  },
  {
   "cell_type": "markdown",
   "metadata": {},
   "source": [
    "1. Write a function called <u>`placement_numpy`</u> with the following **keyword** arguments:\n",
    "    1. <u>`min`</u>: the minimum number to randomly select from (default: 0)\n",
    "    * <u>`max`</u>: the maximum number to randomly select from (default: 42)\n",
    "    * <u>`n_rows`</u>: the number of rows in the array (default: 3)\n",
    "    * <u>`n_cols`</u>: the number of columns in the array (default: 4)\n",
    "    * <u>`n`</u>: the number of random samples (default: 1000)\n",
    "    * <u>`fn`</u>: the name of a function that will be used to aggregate results (default: `sum`)\n",
    "    * <u>`seed`</u>: allow the user to define a random seed for all operations (default: None)\n",
    "* The function must set the seed declared by <u>`seed`</u> using the Numpy library\n",
    "* The function must use the Numpy library to create a random array of integers ranging from <u>`min`</u> to <u>`max`</u> such that it fills a Numpy array of dimensions (<u>`n_rows`</u>, <u>`n_cols`</u>)\n",
    "* Collect <u>`n`</u> random samples with replacement\n",
    "* Iterate through all the random samples\n",
    "    * Use <u>`fn`</u> to aggregate the results\n",
    "* When all iterations are complete, the function must <u>`return`</u> the aggregate answer"
   ]
  },
  {
   "cell_type": "code",
   "execution_count": null,
   "metadata": {},
   "outputs": [],
   "source": [
    "# Use this cell to complete the directions detailed under 'a. Numpy array'\n",
    "\n",
    "def placement_numpy(min=0, max=42, n_rows=3, n_cols=4, n=1000, fn=\"sum\", seed=None):\n",
    "    \n",
    "    '''\n",
    "    TASK:\n",
    "    The function must set the seed declared by seed using the Np library.\n",
    "    The function must us the Np library to create a random array of integers ranging from min to max such that it fills a np array of dimensions (n_rows and n_cols)\n",
    "    Collect n random samples with replacement\n",
    "    Iterate through all the random samples\n",
    "        Use fn to aggregate the results\n",
    "    When all iterations are complete, the function must return the aggregate answer.\n",
    "    \n",
    "    WHAT IS THIS FUNCTION DOING?\n",
    "    It creates an array of size (n_rows x n_cols) with random numbers ranging from min to max. From this array it chooses n samples.\n",
    "    The aggregation of these numbers will be returned by this function.\n",
    "    \n",
    "    '''\n",
    "    # Create a random array and flatten it for easier handling.\n",
    "    rand_seed = np.random.seed(seed)   \n",
    "    rand_array = np.random.randint(min, max, size=(n_rows,n_cols)).flatten()\n",
    "\n",
    "    # Create a list of random samples from previous array and aggregate the numbers accordingly.\n",
    "    rand_samples = []\n",
    "    for i in range(n):\n",
    "        sample = random.choice(rand_array)\n",
    "        rand_samples.append(sample)\n",
    "        \n",
    "    # Delete these variable names because naming input arguments/variables after inbuilt functions is causing errors.    \n",
    "    del max\n",
    "    del min\n",
    "    \n",
    "    answer = eval(fn)(rand_samples)\n",
    "    return answer\n",
    "\n"
   ]
  },
  {
   "cell_type": "code",
   "execution_count": null,
   "metadata": {},
   "outputs": [],
   "source": [
    "# Use this cell to write the code that uses the placement_numpy function\n",
    "\n",
    "ans_def = placement_numpy()\n",
    "print(ans_def)\n",
    "\n",
    "ans_max = placement_numpy(12,22,3,4,100,fn=\"max\", seed = 2)\n",
    "print(ans_max)\n",
    "\n",
    "ans_mean = placement_numpy(12,22,3,4,100,fn=\"np.mean\")\n",
    "print(ans_mean)"
   ]
  },
  {
   "cell_type": "markdown",
   "metadata": {},
   "source": [
    "#### b. Python data structure: `list`"
   ]
  },
  {
   "cell_type": "markdown",
   "metadata": {},
   "source": [
    "1. Write a function called <u>`placement_list`</u> with the following **keyword** arguments:\n",
    "    1. <u>`left`</u>: a Python `list` object (default: None)\n",
    "    * <u>`right`</u>: a Python `list` object (default: None)\n",
    "* The function must ensure that both `left` and `right` are the same size or `left` is one (1) item larger than `right`\n",
    "* The function must ensure that both `left` and `right` are larger than, or equal to, two (2) items\n",
    "* Subset `left` by just the <u>odd</u> numbered items within it\n",
    "* Subset `right` by just the <u>even</u> numbered items within it\n",
    "* The function must <u>`return`</u> the Cartesian product of both subsets as a `list`"
   ]
  },
  {
   "cell_type": "code",
   "execution_count": null,
   "metadata": {},
   "outputs": [],
   "source": [
    "# Use this cell to complete the directions detailed under 'b. Python data structure: list'\n",
    "\n",
    "def placement_list(left:list = None, right:list = None):\n",
    "    \n",
    "    '''\n",
    "    INPUT:\n",
    "    left: list of at least 2 elements.\n",
    "    right: list of at least 2 elements.\n",
    "    lists must be equal or maximum 1 item can be larger than the other.\n",
    "    \n",
    "    RETURN:\n",
    "    Function returns the Cartesian product of \"subset left\" (odd numbers of left list) and \"subset right\" (even numbers of right list) as list.\n",
    "    There are certain requirements to the input functions:\n",
    "    \n",
    "    '''\n",
    "    if type(left) and type(right) is not list:\n",
    "        raise TypeError(\"The input arguments must be lists.\")\n",
    "        \n",
    "    if len(left) != len(right):#or len(left) is not len(right)+1:\n",
    "        raise AssertionError(\"The function must ensure that both lists: (left and right) are the same size or left is one item larger than right.\")\n",
    "        \n",
    "    if len(left)<2 and len(right)<2:\n",
    "        raise AssertionError(\"The function must ensure that both left and right are larger than, or equal to, two items\")\n",
    "        \n",
    "    sub_left = []\n",
    "    sub_right = []\n",
    "    \n",
    "    for i in range(len(left)):\n",
    "        if left[i]%2 != 0:\n",
    "            sub_left.append(left[i])\n",
    "    \n",
    "    for i in range(len(right)):\n",
    "        if right[i]%2 == 0:\n",
    "            sub_left.append(right[i])\n",
    "    \n",
    "    cart_prod = list(product(left,right))     \n",
    "    return cart_prod"
   ]
  },
  {
   "cell_type": "code",
   "execution_count": 31,
   "metadata": {},
   "outputs": [
    {
     "ename": "NameError",
     "evalue": "name 'placement_list' is not defined",
     "output_type": "error",
     "traceback": [
      "\u001b[1;31m---------------------------------------------------------------------------\u001b[0m",
      "\u001b[1;31mNameError\u001b[0m                                 Traceback (most recent call last)",
      "Input \u001b[1;32mIn [31]\u001b[0m, in \u001b[0;36m<cell line: 6>\u001b[1;34m()\u001b[0m\n\u001b[0;32m      3\u001b[0m a \u001b[38;5;241m=\u001b[39m [\u001b[38;5;241m1\u001b[39m,\u001b[38;5;241m2\u001b[39m,\u001b[38;5;241m3\u001b[39m]\n\u001b[0;32m      4\u001b[0m b \u001b[38;5;241m=\u001b[39m [\u001b[38;5;241m2\u001b[39m,\u001b[38;5;241m6\u001b[39m,\u001b[38;5;241m12\u001b[39m]\n\u001b[1;32m----> 6\u001b[0m ans \u001b[38;5;241m=\u001b[39m \u001b[43mplacement_list\u001b[49m(a,b)\n\u001b[0;32m      7\u001b[0m \u001b[38;5;28mprint\u001b[39m(ans)\n",
      "\u001b[1;31mNameError\u001b[0m: name 'placement_list' is not defined"
     ]
    }
   ],
   "source": [
    "# Use this cell to write the code that uses the placement_list function\n",
    "\n",
    "a = [1,2,3]\n",
    "b = [2,6,12]\n",
    "\n",
    "ans = placement_list(a,b)\n",
    "print(ans)"
   ]
  },
  {
   "cell_type": "markdown",
   "metadata": {},
   "source": [
    "#### c. Python data structure: `dict`"
   ]
  },
  {
   "cell_type": "markdown",
   "metadata": {},
   "source": [
    "1. Write a function called <u>`placement_dict`</u> with the following **keyword** arguments:\n",
    "    1. <u>`seq`</u>: a `list` of numbers ranging from one (1) to sixty-four (64) (inclusive) (default: None)\n",
    "    * <u>`codon_key`</u>: a `dict` where each codon is associated with a number (default: None)\n",
    "    * <u>`codon_trans`</u>: a `dict` where each codon is associated with its associated single letter protein designation (default: None)\n",
    "* The function must use the provided code `codon_key` and `codon_trans`\n",
    "* The function must reverse `codon_key` such that the number is the key and the codon is the value\n",
    "* The function must iterate through both dictionaries, creating a dictionary of dictionaries:\n",
    "    1. The outer key is the number of the codon\n",
    "    * The outer value is a dictionary:\n",
    "        1. The inner key is the codon\n",
    "        * The inner value is the codon's protein translation\n",
    "    * If a codon is in `codon_key` and not `codon_trans`, skip it\n",
    "    * If a codon is in `codon_trans` and not `codon_key`, skip it\n",
    "* The function must then process the `seq`:\n",
    "    1. It must generate the nucleotide sequence given a list of numbers\n",
    "    * It must generate the protein translation of the sequence given a list of numbers\n",
    "* The function must `return` a `tuple` with the following items:\n",
    "    1. The first item must be a string representation of the nucleotide sequence translation of `seq`\n",
    "    * The second item must be a string representation of the protein sequence translation of `seq`"
   ]
  },
  {
   "cell_type": "code",
   "execution_count": null,
   "metadata": {},
   "outputs": [],
   "source": [
    "# This code is for you to use to complete the directions detailed under 'c. Python data structure: dict' \n",
    "nts = 'ACGT'\n",
    "codon_key = {codon: i for i, codon in enumerate((x+y+z for x in nts for y in nts for z in nts), 1)}\n",
    "\n",
    "trans_table = {\n",
    "    'TTT': 'F', 'TTC': 'F', 'TTY': 'F', 'TTA': 'L', 'TTG': 'L', 'TTR': 'L', 'TCT': 'S', 'TCC': 'S',\n",
    "    'TCA': 'S', 'TCG': 'S', 'TCN': 'S', 'TCY': 'S', 'TCR': 'S', 'TAT': 'Y', 'TAC': 'Y', 'TAY': 'Y',\n",
    "    'TAA': 'X', 'TAG': 'X', 'TAR': 'X', 'TGT': 'C', 'TGC': 'C', 'TGY': 'C', 'TGA': 'X', 'TGG': 'W',\n",
    "    'CTT': 'L', 'CTC': 'L', 'CTA': 'L', 'CTG': 'L', 'CTY': 'L', 'CTR': 'L', 'CTN': 'L', 'YTG': 'L',\n",
    "    'YTA': 'L', 'CCT': 'P', 'CCC': 'P', 'CCA': 'P', 'CCG': 'P', 'CCY': 'P', 'CCR': 'P', 'CCN': 'P',\n",
    "    'CAT': 'H', 'CAC': 'H', 'CAY': 'H', 'CAA': 'Q', 'CAG': 'Q', 'CAR': 'Q', 'CGT': 'R', 'CGC': 'R',\n",
    "    'CGA': 'R', 'CGG': 'R', 'CGY': 'R', 'CGR': 'R', 'CGN': 'R', 'ATT': 'I', 'ATC': 'I', 'ATA': 'I',\n",
    "    'ATY': 'I', 'ATG': 'M', 'ACT': 'T', 'ACC': 'T', 'ACA': 'T', 'ACG': 'T', 'ACY': 'T', 'ACR': 'T',\n",
    "    'ACN': 'T', 'AAT': 'N', 'AAC': 'N', 'AAY': 'N', 'AAA': 'K', 'AAG': 'K', 'AAR': 'K', 'AGT': 'S',\n",
    "    'AGC': 'S', 'AGY': 'S', 'AGA': 'R', 'AGG': 'R', 'AGR': 'R', 'GTT': 'V', 'GTC': 'V', 'GTA': 'V',\n",
    "    'GTG': 'V', 'GTY': 'V', 'GTR': 'V', 'GTN': 'V', 'GCT': 'A', 'GCC': 'A', 'GCA': 'A', 'GCG': 'A',\n",
    "    'GCY': 'A', 'GCR': 'A', 'GCN': 'A', 'GAT': 'D', 'GAC': 'D', 'GAY': 'D', 'GAA': 'E', 'GAG': 'E',\n",
    "    'GAR': 'E', 'GGT': 'G', 'GGC': 'G', 'GGA': 'G', 'GGG': 'G', 'GGY': 'G', 'GGR': 'G', 'GGN': 'G'\n",
    "}"
   ]
  },
  {
   "cell_type": "code",
   "execution_count": null,
   "metadata": {},
   "outputs": [],
   "source": [
    "# Use this cell to complete the directions detailed under 'c. Python data structure: dict'\n",
    "\n",
    "def placement_dict(seq:list=None, codon_key:dict=None, codon_trans:dict=None):\n",
    "    \n",
    "    '''\n",
    "    INPUT:\n",
    "    codon_key: a dict where each codon is associated with a number (default: None)\n",
    "    codon_trans: a dict where each codon is associated with its associated single letter protein designation (default: None)\n",
    "    \n",
    "    WHAT IS IT DOING:\n",
    "    1: reverse codon_key dictionary\n",
    "    2: create a dictionary of dictionaries:\n",
    "        outer key: # of codon.\n",
    "        outer value: dictionary\n",
    "            inner key: codon\n",
    "            inner value: codon´s protein translation\n",
    "    3: process the seq given a list of numbers [1,64]\n",
    "        generate nucleotide sequence\n",
    "        generate protein translation\n",
    "    \n",
    "    RETURN: \n",
    "    The function must return a tuple with the following items:\n",
    "    The first item must be a string representation of the nucleotide sequence translation of seq\n",
    "    The second item must be a string representation of the protein sequence translation of seq\n",
    "    \n",
    "    '''\n",
    "\n",
    "    # (1) Reverse the input dictionary codon_key so that the codons are now the value and the keys are the numbers.\n",
    "    codon_value = {num: codon for codon, num in codon_key.items()}\n",
    "    \n",
    "    # (2) Create a nested dictionary of format: {1:{AAA:X}, 2:{AAC:Y}, 3:{AAG:Z}}}\n",
    "    nested_dict = {}\n",
    "    missing_keys = []\n",
    "    for key in codon_value:  \n",
    "        if codon_value[key] not in codon_trans.keys():\n",
    "            inner_dict = {codon_value[key]:\"\"}\n",
    "            nested_dict[key] = inner_dict\n",
    "            missing_keys.append(key)\n",
    "        else:\n",
    "            for trans_key in codon_trans.keys(): \n",
    "                if codon_value[key] == trans_key:\n",
    "                    inner_dict = {codon_value[key]:codon_trans[trans_key]}\n",
    "                    nested_dict[key] = inner_dict\n",
    "\n",
    "    # (3) Generate Seq tuple using input list.\n",
    "    nucleotide = \"\"\n",
    "    protein = \"\"\n",
    "    \n",
    "    # Check if all numbers in input seq are defined in dictionary.\n",
    "    try: \n",
    "        for num in seq:   \n",
    "            nucleotide =  nucleotide + list(nested_dict[num].keys())[0]\n",
    "            protein = protein + list(nested_dict[num].values())[0]\n",
    "        nucl_prot = (nucleotide, protein)\n",
    "    except:\n",
    "        print(\"Input sequence contains a number that exceeds the number of existing codons with range [1,64]. The number is: \", num)\n",
    "    else:\n",
    "        if len(missing_keys) > 0:\n",
    "            print(\"The following codon number(s) are missing in our dictionary and were not translated:\", missing_keys)\n",
    "        return nucl_prot"
   ]
  },
  {
   "cell_type": "code",
   "execution_count": null,
   "metadata": {},
   "outputs": [],
   "source": [
    "# Use this cell to write the code that uses the placement_dict function\n",
    "\n",
    "sequence = [1,2,4,6,8,10,12,14,33,64]\n",
    "\n",
    "ans = placement_dict(sequence, codon_key, codon_trans)\n",
    "\n",
    "print(ans)"
   ]
  },
  {
   "cell_type": "markdown",
   "metadata": {},
   "source": [
    "---"
   ]
  },
  {
   "cell_type": "markdown",
   "metadata": {},
   "source": [
    "# Part 3: Object-Oriented Progamming"
   ]
  },
  {
   "cell_type": "markdown",
   "metadata": {},
   "source": [
    "## Instructions"
   ]
  },
  {
   "cell_type": "markdown",
   "metadata": {},
   "source": [
    "A rudimentary `class` has been created for you below called `FASTA`. It represents a canonical-only <u>nucleotide</u> FASTA sequence. As objects are meant to contain and/or group attributes and methods that relate to specific type of object, it is important that you know how read and use these."
   ]
  },
  {
   "cell_type": "markdown",
   "metadata": {},
   "source": [
    "Use the `FASTA class` provided below to complete the following instructions:\n",
    "1. You may not modify any of the pre-existing code. That is, you are allowed to add to, but not take away from it\n",
    "* All class methods below must be added to the functionality of the `FASTA` object.\n",
    "    1. Write a class method called `complement`:\n",
    "        1. This class method takes no arguments\n",
    "        * This class method must `return` the complement sequence of the `seq` attribute contained within the object\n",
    "    * Write a class method called `reverse`:\n",
    "        1. This class method takes no arguments\n",
    "        * This class method must `return` the reverse sequence of the `seq` attribute contained within the object\n",
    "    * Write a class method called `rev_comp`:\n",
    "        1. This class method takes no arguments\n",
    "        * This class method must `return` the reverse complement sequence of the `seq` attribute contained within the object\n",
    "    * Write a class method called `is_complete`:\n",
    "        1. This class method takes the argument `kmer` (default: 3)\n",
    "        * This class method must `return` whether or not the `seq` attribute can be divided into n `kmer`-length kmers such that there is no remainder\n",
    "    * Write a class method called `translate`:\n",
    "        1. This class method takes a `dict` as an argument:\n",
    "            * The keys of the dictionary are codons\n",
    "            * The values of the dictionary are the protein translations\n",
    "        * This class method must translate the `seq` attribute contained within the object into its single-letter protein translation using the `dict` argument for translation:\n",
    "            * Ignore detection of 'Stop' codons\n",
    "            * If a codon is observed in `seq` that is not in `dict`, the class method should translate this as 'X' instead\n",
    "            * Only translate <u>complete</u> codons\n",
    "        * This class method must `return` the translated sequence"
   ]
  },
  {
   "cell_type": "code",
   "execution_count": 32,
   "metadata": {},
   "outputs": [],
   "source": [
    "# Use the FASTA class below to complete the instructions detailed above\n",
    "class FASTA:\n",
    "    \n",
    "    __slots__ = ['_header', '_seq']\n",
    "    \n",
    "    def __init__(self, sequence = None, header = None):\n",
    "        self._header = header\n",
    "        self._seq = sequence\n",
    "    \n",
    "    @property\n",
    "    def header(self):\n",
    "        if self._header is None:\n",
    "            return '>'\n",
    "        else:\n",
    "            return self._header\n",
    "    \n",
    "    @header.setter\n",
    "    def header(self, header):\n",
    "        if not header.startswith('>'):\n",
    "            header = '>' + header\n",
    "        self._header = header\n",
    "    \n",
    "    @property\n",
    "    def seq(self):\n",
    "        return self._seq\n",
    "    \n",
    "    @seq.setter\n",
    "    def seq(self, sequence):\n",
    "        sequence = sequence.upper()\n",
    "        if all(True if letter in 'ACGT' else False for letter in sequence):\n",
    "            self._seq = sequence\n",
    "        else:\n",
    "            raise ValueError('Sequence contains non-canonical nucleotides')\n",
    "    \n",
    "    def __len__(self):\n",
    "        return len(self.seq)\n",
    "    \n",
    "    def __str__(self):\n",
    "        formatted_seq = '\\n'.join([self.seq[i:i+80] for i in range(0,len(g),80)])\n",
    "        return f\"{self.header if self.header else ' '}Sequence Length: {len(self)}\\n{formatted_seq}\"\n",
    "\n",
    "    def __repr__(self):\n",
    "        return f\"FASTA(header='{self.header}', sequence='{self.seq}')\"\n",
    "    \n",
    "###################################################################################################################\n",
    "   \n",
    "    # This class method must return the complement sequence of the seq attribute contained within the object\n",
    "    def complement(self):\n",
    "        complement_seq = \"\"\n",
    "        for base in self._seq:\n",
    "            if base == \"A\":\n",
    "                complement_seq += \"T\"\n",
    "            elif base == \"T\":\n",
    "                complement_seq += \"A\"\n",
    "            elif base == \"C\":\n",
    "                complement_seq += \"G\"\n",
    "            elif base == \"G\":\n",
    "                complement_seq += \"C\"\n",
    "            else:\n",
    "                raise ValueError('Sequence contains non-canonical nucleotides')\n",
    "                \n",
    "        return complement_seq\n",
    "    \n",
    "    # This class method must return the reverse sequence of the seq attribute contained within the object\n",
    "    def reverse(self):\n",
    "        reverse_seq = self._seq[::-1]\n",
    "        return reverse_seq\n",
    "    \n",
    "    #This class method must return the reverse complement sequence of the seq attribute contained within the object\n",
    "    def rev_comp(self):\n",
    "        complement_seq = self.complement()\n",
    "        reverse_comp_seq = complement_seq[::-1]\n",
    "        return reverse_comp_seq\n",
    "    \n",
    "    # This class method must return whether or not the seq attribute can be divided \n",
    "    # into n kmer-length kmers such that there is no remainder\n",
    "    def is_complete(self, kmer = 3):\n",
    "        if len(self._seq)%3 == 0:\n",
    "            return True\n",
    "        else:\n",
    "            return False\n",
    "    \n",
    "    # This class method translates the DNA sequence to a protein sequence according to an input dictionary.\n",
    "    def translate(self, codon_protein_dict:dict):\n",
    "        \n",
    "        if self.is_complete(3):\n",
    "\n",
    "            codon_triplets = [self._seq[i:i+3] for i in np.arange(0,len(self.seq),3)]           \n",
    "            protein_trans = \"\"\n",
    "            for triplet in codon_triplets:\n",
    "                \n",
    "                # Ignore stop codons\n",
    "                if triplet == \"TAA\" or triplet == \"TAG\" or triplet == \"TGA\":\n",
    "                    continue\n",
    "                # If a codon in seq not in dict translate to \"X\"\n",
    "                if triplet not in codon_protein_dict:\n",
    "                    protein_trans += \"X\"\n",
    "                    continue\n",
    "                    \n",
    "                for codon in codon_protein_dict:         \n",
    "                    if triplet == codon:\n",
    "                        protein_trans += codon_protein_dict[codon]\n",
    "        else:\n",
    "            print(\"The DNA sequence is not complete and cannot be translated.\")\n",
    "            \n",
    "        return protein_trans\n",
    "        "
   ]
  },
  {
   "cell_type": "code",
   "execution_count": 24,
   "metadata": {},
   "outputs": [
    {
     "name": "stdout",
     "output_type": "stream",
     "text": [
      "This is the input sequence: ACTAGGTCCATTTCCAAACCCGGTTTGTAGTTT\n",
      "This is the complement of the input sequence: TGATCCAGGTAAAGGTTTGGGCCAAACATCAAA\n",
      "This is the reverse of the input sequence: TTTGATGTTTGGCCCAAACCTTTACCTGGATCA\n",
      "This is the reverse + complement of the input sequence: AAACTACAAACCGGGTTTGGAAATGGACCTAGT\n",
      "The input sequence is complete. T/F? True\n",
      "This is the Protein Translation of the input sequence: TRSISKPGLX\n"
     ]
    }
   ],
   "source": [
    "# Use this cell to implement the FASTA class and show how your newly-written methods work\n",
    "\n",
    "import numpy as np \n",
    "\n",
    "# This is a slightly modified translation dictionary from a previous task. Stop codon values added and \"TTT\" changed to TTX.\n",
    "trans_table = {\n",
    "    'TTX': 'F', 'TTC': 'F', 'TTY': 'F', 'TTA': 'L', 'TTG': 'L', 'TTR': 'L', 'TCT': 'S', 'TCC': 'S',\n",
    "    'TCA': 'S', 'TCG': 'S', 'TCN': 'S', 'TCY': 'S', 'TCR': 'S', 'TAT': 'Y', 'TAC': 'Y', 'TAY': 'Y',\n",
    "    'TAA': 'stop', 'TAG': 'stop', 'TAR': 'X', 'TGT': 'C', 'TGC': 'C', 'TGY': 'C', 'TGA': 'stop', 'TGG': 'W',\n",
    "    'CTT': 'L', 'CTC': 'L', 'CTA': 'L', 'CTG': 'L', 'CTY': 'L', 'CTR': 'L', 'CTN': 'L', 'YTG': 'L',\n",
    "    'YTA': 'L', 'CCT': 'P', 'CCC': 'P', 'CCA': 'P', 'CCG': 'P', 'CCY': 'P', 'CCR': 'P', 'CCN': 'P',\n",
    "    'CAT': 'H', 'CAC': 'H', 'CAY': 'H', 'CAA': 'Q', 'CAG': 'Q', 'CAR': 'Q', 'CGT': 'R', 'CGC': 'R',\n",
    "    'CGA': 'R', 'CGG': 'R', 'CGY': 'R', 'CGR': 'R', 'CGN': 'R', 'ATT': 'I', 'ATC': 'I', 'ATA': 'I',\n",
    "    'ATY': 'I', 'ATG': 'M', 'ACT': 'T', 'ACC': 'T', 'ACA': 'T', 'ACG': 'T', 'ACY': 'T', 'ACR': 'T',\n",
    "    'ACN': 'T', 'AAT': 'N', 'AAC': 'N', 'AAY': 'N', 'AAA': 'K', 'AAG': 'K', 'AAR': 'K', 'AGT': 'S',\n",
    "    'AGC': 'S', 'AGY': 'S', 'AGA': 'R', 'AGG': 'R', 'AGR': 'R', 'GTT': 'V', 'GTC': 'V', 'GTA': 'V',\n",
    "    'GTG': 'V', 'GTY': 'V', 'GTR': 'V', 'GTN': 'V', 'GCT': 'A', 'GCC': 'A', 'GCA': 'A', 'GCG': 'A',\n",
    "    'GCY': 'A', 'GCR': 'A', 'GCN': 'A', 'GAT': 'D', 'GAC': 'D', 'GAY': 'D', 'GAA': 'E', 'GAG': 'E',\n",
    "    'GAR': 'E', 'GGT': 'G', 'GGC': 'G', 'GGA': 'G', 'GGG': 'G', 'GGY': 'G', 'GGR': 'G', 'GGN': 'G', \n",
    "}\n",
    "\n",
    "# Testing with two DNA sequences. One is erroneous and the other is valid. Expected results: 10 Proteins (TRSISKPGL_X)\n",
    "# error_sq = \"ACTAGGTCCATTTCCAAACCCGGTTTGTAGXYZ\" \n",
    "\n",
    "# exp_one = FASTA(error_sq)\n",
    "# input_seq = exp_one.seq\n",
    "# a = exp_one.complement()\n",
    "# b = exp_one.reverse()\n",
    "# c = exp_one.rev_comp()\n",
    "# d = exp_one.is_complete()\n",
    "# e = exp_one.translate(trans_table)\n",
    "\n",
    "# print(\"This is the input sequence:\", input_seq)\n",
    "# print(\"This is the complement of the input sequence:\", a)\n",
    "# print(\"This is the reverse of the input sequence:\", b)\n",
    "# print(\"This is the reverse + complement of the input sequence:\",c)\n",
    "# print(\"The input sequence is complete. T/F?\",d)\n",
    "# print(\"This is the Protein Translation of the input sequence:\",e)\n",
    "\n",
    "\n",
    "good_sq = \"ACTAGGTCCATTTCCAAACCCGGTTTGTAGTTT\" \n",
    "\n",
    "exp_two = FASTA(good_sq)\n",
    "input_seq = exp_two.seq\n",
    "a = exp_two.complement()\n",
    "b = exp_two.reverse()\n",
    "c = exp_two.rev_comp()\n",
    "d = exp_two.is_complete()\n",
    "e = exp_two.translate(trans_table)\n",
    "\n",
    "print(\"This is the input sequence:\", input_seq)\n",
    "print(\"This is the complement of the input sequence:\", a)\n",
    "print(\"This is the reverse of the input sequence:\", b)\n",
    "print(\"This is the reverse + complement of the input sequence:\",c)\n",
    "print(\"The input sequence is complete. T/F?\",d)\n",
    "print(\"This is the Protein Translation of the input sequence:\",e)\n"
   ]
  },
  {
   "cell_type": "markdown",
   "metadata": {},
   "source": [
    "---"
   ]
  },
  {
   "cell_type": "markdown",
   "metadata": {},
   "source": [
    "# Assessment Rubric"
   ]
  },
  {
   "cell_type": "markdown",
   "metadata": {},
   "source": [
    "1. [ ] Jupyter notebooks\n",
    "* [ ] git\n",
    "* [ ] I/O operations\n",
    "* [ ] String operations\n",
    "* [ ] Numpy arrays and simple Python data structures\n",
    "* [ ] Random selection techniques\n",
    "* [ ] Indexing, slicing, and subsetting data\n",
    "* [ ] Object-Oriented Programming\n",
    "* [ ] Coding by Contract\n",
    "* [ ] Iteration methods\n",
    "* [ ] Python control structures"
   ]
  }
 ],
 "metadata": {
  "kernelspec": {
   "display_name": "Python 3 (ipykernel)",
   "language": "python",
   "name": "python3"
  },
  "language_info": {
   "codemirror_mode": {
    "name": "ipython",
    "version": 3
   },
   "file_extension": ".py",
   "mimetype": "text/x-python",
   "name": "python",
   "nbconvert_exporter": "python",
   "pygments_lexer": "ipython3",
   "version": "3.9.12"
  }
 },
 "nbformat": 4,
 "nbformat_minor": 2
}
